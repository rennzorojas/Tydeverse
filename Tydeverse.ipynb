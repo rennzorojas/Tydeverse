{
  "nbformat": 4,
  "nbformat_minor": 0,
  "metadata": {
    "colab": {
      "provenance": [],
      "authorship_tag": "ABX9TyPzE4Xh6/zcfwluPRJLMUT1",
      "include_colab_link": true
    },
    "kernelspec": {
      "name": "ir",
      "display_name": "R"
    },
    "language_info": {
      "name": "R"
    }
  },
  "cells": [
    {
      "cell_type": "markdown",
      "metadata": {
        "id": "view-in-github",
        "colab_type": "text"
      },
      "source": [
        "<a href=\"https://colab.research.google.com/github/rennzorojas/Tydeverse/blob/main/Tydeverse.ipynb\" target=\"_parent\"><img src=\"https://colab.research.google.com/assets/colab-badge.svg\" alt=\"Open In Colab\"/></a>"
      ]
    },
    {
      "cell_type": "markdown",
      "source": [
        "STAR WARS"
      ],
      "metadata": {
        "id": "6cLcNHzQYu90"
      }
    },
    {
      "cell_type": "code",
      "source": [
        "install.packages(\"tidyverse\")\n",
        "install.packages(\"rwars\")\n",
        "library(tidyverse)\n",
        "starwars %>%\n",
        "  filter(height>150 & mass<200) %>% \n",
        "  mutate(height_in_meters=height/100) %>% \n",
        "  select(height_in_meters, mass) %>% \n",
        "  arrange(mass) %>% \n",
        "  #view()\n",
        "  plot()\n",
        "starwar_español <- starwars\n",
        "\n",
        "#EXPLORE\n",
        "\n",
        "#Data structure and types of variables\n",
        "view(msleep)\n",
        "view(starwars)\n",
        "glimpse(starwars)\n",
        "glimpse(msleep)\n",
        "head(msleep)\n",
        "head(starwars)\n",
        "class(msleep$name)"
      ],
      "metadata": {
        "id": "lYfLG-IXYz1q"
      },
      "execution_count": null,
      "outputs": []
    },
    {
      "cell_type": "code",
      "source": [],
      "metadata": {
        "id": "Tu4q5_wRZGh2"
      },
      "execution_count": null,
      "outputs": []
    }
  ]
}